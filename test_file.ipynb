{
 "cells": [
  {
   "cell_type": "markdown",
   "id": "f479ffc2-1521-4bdf-b770-44e4e4187403",
   "metadata": {},
   "source": []
  },
  {
   "cell_type": "code",
   "execution_count": 1,
   "id": "ce6d47a0-ae2d-461b-a8f2-3e403721d14b",
   "metadata": {},
   "outputs": [
    {
     "name": "stderr",
     "output_type": "stream",
     "text": [
      "── \u001b[1mAttaching core tidyverse packages\u001b[22m ──────────────────────── tidyverse 2.0.0 ──\n",
      "\u001b[32m✔\u001b[39m \u001b[34mdplyr    \u001b[39m 1.1.3     \u001b[32m✔\u001b[39m \u001b[34mreadr    \u001b[39m 2.1.4\n",
      "\u001b[32m✔\u001b[39m \u001b[34mforcats  \u001b[39m 1.0.0     \u001b[32m✔\u001b[39m \u001b[34mstringr  \u001b[39m 1.5.0\n",
      "\u001b[32m✔\u001b[39m \u001b[34mggplot2  \u001b[39m 3.4.4     \u001b[32m✔\u001b[39m \u001b[34mtibble   \u001b[39m 3.2.1\n",
      "\u001b[32m✔\u001b[39m \u001b[34mlubridate\u001b[39m 1.9.3     \u001b[32m✔\u001b[39m \u001b[34mtidyr    \u001b[39m 1.3.0\n",
      "\u001b[32m✔\u001b[39m \u001b[34mpurrr    \u001b[39m 1.0.2     \n",
      "── \u001b[1mConflicts\u001b[22m ────────────────────────────────────────── tidyverse_conflicts() ──\n",
      "\u001b[31m✖\u001b[39m \u001b[34mdplyr\u001b[39m::\u001b[32mfilter()\u001b[39m masks \u001b[34mstats\u001b[39m::filter()\n",
      "\u001b[31m✖\u001b[39m \u001b[34mdplyr\u001b[39m::\u001b[32mlag()\u001b[39m    masks \u001b[34mstats\u001b[39m::lag()\n",
      "\u001b[36mℹ\u001b[39m Use the conflicted package (\u001b[3m\u001b[34m<http://conflicted.r-lib.org/>\u001b[39m\u001b[23m) to force all conflicts to become errors\n",
      "Warning message in file(filename, \"r\", encoding = encoding):\n",
      "“cannot open file 'tests.R': No such file or directory”\n"
     ]
    },
    {
     "ename": "ERROR",
     "evalue": "Error in file(filename, \"r\", encoding = encoding): cannot open the connection\n",
     "output_type": "error",
     "traceback": [
      "Error in file(filename, \"r\", encoding = encoding): cannot open the connection\nTraceback:\n",
      "1. source(\"tests.R\")",
      "2. file(filename, \"r\", encoding = encoding)"
     ]
    }
   ],
   "source": [
    "### Run this cell before continuing. \n",
    "library(tidyverse)\n",
    "library(repr)\n",
    "options(repr.matrix.max.rows = 6)\n",
    "source(\"tests.R\")\n",
    "source(\"cleanup.R\")\n"
   ]
  },
  {
   "cell_type": "code",
   "execution_count": 5,
   "id": "970cd0fc-4ca7-436b-87e7-11073d3eb572",
   "metadata": {},
   "outputs": [
    {
     "name": "stderr",
     "output_type": "stream",
     "text": [
      "\u001b[1mRows: \u001b[22m\u001b[34m1000\u001b[39m \u001b[1mColumns: \u001b[22m\u001b[34m27\u001b[39m\n",
      "\u001b[36m──\u001b[39m \u001b[1mColumn specification\u001b[22m \u001b[36m────────────────────────────────────────────────────────\u001b[39m\n",
      "\u001b[1mDelimiter:\u001b[22m \",\"\n",
      "\u001b[31mchr\u001b[39m  (17): breadcrumb, category_name, property_type, building_size, land_siz...\n",
      "\u001b[32mdbl\u001b[39m   (7): index, TID, location_number, zip_code, bedroom_count, bathroom_co...\n",
      "\u001b[33mlgl\u001b[39m   (2): latitude, longitude\n",
      "\u001b[34mdttm\u001b[39m  (1): RunDate\n",
      "\n",
      "\u001b[36mℹ\u001b[39m Use `spec()` to retrieve the full column specification for this data.\n",
      "\u001b[36mℹ\u001b[39m Specify the column types or set `show_col_types = FALSE` to quiet this message.\n"
     ]
    },
    {
     "data": {
      "text/html": [
       "<table class=\"dataframe\">\n",
       "<caption>A tibble: 1000 × 5</caption>\n",
       "<thead>\n",
       "\t<tr><th scope=col>land_size</th><th scope=col>property_type</th><th scope=col>state</th><th scope=col>bedroom_count</th><th scope=col>price</th></tr>\n",
       "\t<tr><th scope=col>&lt;chr&gt;</th><th scope=col>&lt;chr&gt;</th><th scope=col>&lt;chr&gt;</th><th scope=col>&lt;dbl&gt;</th><th scope=col>&lt;chr&gt;</th></tr>\n",
       "</thead>\n",
       "<tbody>\n",
       "\t<tr><td>NA</td><td>House    </td><td>NT</td><td>2</td><td>$435,000            </td></tr>\n",
       "\t<tr><td>NA</td><td>Apartment</td><td>NT</td><td>3</td><td>Offers Over $320,000</td></tr>\n",
       "\t<tr><td>NA</td><td>Unit     </td><td>NT</td><td>2</td><td>$310,000            </td></tr>\n",
       "\t<tr><td>⋮</td><td>⋮</td><td>⋮</td><td>⋮</td><td>⋮</td></tr>\n",
       "\t<tr><td>800m²</td><td>House</td><td>NT</td><td>4</td><td>$655,000</td></tr>\n",
       "\t<tr><td>450m²</td><td>House</td><td>NT</td><td>4</td><td>$675,000</td></tr>\n",
       "\t<tr><td>NA   </td><td>Unit </td><td>NT</td><td>2</td><td>$399,000</td></tr>\n",
       "</tbody>\n",
       "</table>\n"
      ],
      "text/latex": [
       "A tibble: 1000 × 5\n",
       "\\begin{tabular}{lllll}\n",
       " land\\_size & property\\_type & state & bedroom\\_count & price\\\\\n",
       " <chr> & <chr> & <chr> & <dbl> & <chr>\\\\\n",
       "\\hline\n",
       "\t NA & House     & NT & 2 & \\$435,000            \\\\\n",
       "\t NA & Apartment & NT & 3 & Offers Over \\$320,000\\\\\n",
       "\t NA & Unit      & NT & 2 & \\$310,000            \\\\\n",
       "\t ⋮ & ⋮ & ⋮ & ⋮ & ⋮\\\\\n",
       "\t 800m² & House & NT & 4 & \\$655,000\\\\\n",
       "\t 450m² & House & NT & 4 & \\$675,000\\\\\n",
       "\t NA    & Unit  & NT & 2 & \\$399,000\\\\\n",
       "\\end{tabular}\n"
      ],
      "text/markdown": [
       "\n",
       "A tibble: 1000 × 5\n",
       "\n",
       "| land_size &lt;chr&gt; | property_type &lt;chr&gt; | state &lt;chr&gt; | bedroom_count &lt;dbl&gt; | price &lt;chr&gt; |\n",
       "|---|---|---|---|---|\n",
       "| NA | House     | NT | 2 | $435,000             |\n",
       "| NA | Apartment | NT | 3 | Offers Over $320,000 |\n",
       "| NA | Unit      | NT | 2 | $310,000             |\n",
       "| ⋮ | ⋮ | ⋮ | ⋮ | ⋮ |\n",
       "| 800m² | House | NT | 4 | $655,000 |\n",
       "| 450m² | House | NT | 4 | $675,000 |\n",
       "| NA    | Unit  | NT | 2 | $399,000 |\n",
       "\n"
      ],
      "text/plain": [
       "     land_size property_type state bedroom_count price               \n",
       "1    NA        House         NT    2             $435,000            \n",
       "2    NA        Apartment     NT    3             Offers Over $320,000\n",
       "3    NA        Unit          NT    2             $310,000            \n",
       "⋮    ⋮         ⋮             ⋮     ⋮             ⋮                   \n",
       "998  800m²     House         NT    4             $655,000            \n",
       "999  450m²     House         NT    4             $675,000            \n",
       "1000 NA        Unit          NT    2             $399,000            "
      ]
     },
     "metadata": {},
     "output_type": "display_data"
    }
   ],
   "source": [
    "data <- read_csv(\"data/RealEstateAU_1000_Samples.csv\")\n",
    "\n",
    "data_clean <- data |>\n",
    "    select(land_size, property_type, state, bedroom_count, price)\n",
    "data_clean"
   ]
  },
  {
   "cell_type": "code",
   "execution_count": null,
   "id": "435c7f75-c6a8-400e-aeee-717250d77c60",
   "metadata": {},
   "outputs": [],
   "source": []
  }
 ],
 "metadata": {
  "kernelspec": {
   "display_name": "R",
   "language": "R",
   "name": "ir"
  },
  "language_info": {
   "codemirror_mode": "r",
   "file_extension": ".r",
   "mimetype": "text/x-r-source",
   "name": "R",
   "pygments_lexer": "r",
   "version": "4.3.1"
  }
 },
 "nbformat": 4,
 "nbformat_minor": 5
}
