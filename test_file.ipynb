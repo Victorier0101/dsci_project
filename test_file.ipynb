{
 "cells": [
  {
   "cell_type": "markdown",
   "id": "f479ffc2-1521-4bdf-b770-44e4e4187403",
   "metadata": {},
   "source": [
    "This is our Group proposal, the data set we will be using are bluhbluhbluh."
   ]
  }
 ],
 "metadata": {
  "kernelspec": {
   "display_name": "R",
   "language": "R",
   "name": "ir"
  },
  "language_info": {
   "codemirror_mode": "r",
   "file_extension": ".r",
   "mimetype": "text/x-r-source",
   "name": "R",
   "pygments_lexer": "r",
   "version": "4.3.1"
  }
 },
 "nbformat": 4,
 "nbformat_minor": 5
}
